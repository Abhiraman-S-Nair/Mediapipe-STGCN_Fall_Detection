{
  "cells": [
    {
      "cell_type": "markdown",
      "metadata": {
        "id": "pbEU4rWeBR3w"
      },
      "source": [
        "#Installing Libraries"
      ]
    },
    {
      "cell_type": "code",
      "execution_count": null,
      "metadata": {
        "colab": {
          "base_uri": "https://localhost:8080/"
        },
        "collapsed": true,
        "id": "vgW8vOdnCzop",
        "outputId": "b457624c-3f0f-4264-8396-bf1abffba4c3"
      },
      "outputs": [
        {
          "name": "stdout",
          "output_type": "stream",
          "text": [
            "Collecting ultralytics\n",
            "  Downloading ultralytics-8.3.50-py3-none-any.whl.metadata (35 kB)\n",
            "Requirement already satisfied: torch in /usr/local/lib/python3.10/dist-packages (2.5.1+cu121)\n",
            "Requirement already satisfied: torchvision in /usr/local/lib/python3.10/dist-packages (0.20.1+cu121)\n",
            "Requirement already satisfied: opencv-python in /usr/local/lib/python3.10/dist-packages (4.10.0.84)\n",
            "Collecting mediapipe\n",
            "  Downloading mediapipe-0.10.20-cp310-cp310-manylinux_2_28_x86_64.whl.metadata (9.7 kB)\n",
            "Requirement already satisfied: numpy in /usr/local/lib/python3.10/dist-packages (1.26.4)\n",
            "Requirement already satisfied: matplotlib in /usr/local/lib/python3.10/dist-packages (3.8.0)\n",
            "Requirement already satisfied: pillow>=7.1.2 in /usr/local/lib/python3.10/dist-packages (from ultralytics) (11.0.0)\n",
            "Requirement already satisfied: pyyaml>=5.3.1 in /usr/local/lib/python3.10/dist-packages (from ultralytics) (6.0.2)\n",
            "Requirement already satisfied: requests>=2.23.0 in /usr/local/lib/python3.10/dist-packages (from ultralytics) (2.32.3)\n",
            "Requirement already satisfied: scipy>=1.4.1 in /usr/local/lib/python3.10/dist-packages (from ultralytics) (1.13.1)\n",
            "Requirement already satisfied: tqdm>=4.64.0 in /usr/local/lib/python3.10/dist-packages (from ultralytics) (4.66.6)\n",
            "Requirement already satisfied: psutil in /usr/local/lib/python3.10/dist-packages (from ultralytics) (5.9.5)\n",
            "Requirement already satisfied: py-cpuinfo in /usr/local/lib/python3.10/dist-packages (from ultralytics) (9.0.0)\n",
            "Requirement already satisfied: pandas>=1.1.4 in /usr/local/lib/python3.10/dist-packages (from ultralytics) (2.2.2)\n",
            "Requirement already satisfied: seaborn>=0.11.0 in /usr/local/lib/python3.10/dist-packages (from ultralytics) (0.13.2)\n",
            "Collecting ultralytics-thop>=2.0.0 (from ultralytics)\n",
            "  Downloading ultralytics_thop-2.0.13-py3-none-any.whl.metadata (9.4 kB)\n",
            "Requirement already satisfied: filelock in /usr/local/lib/python3.10/dist-packages (from torch) (3.16.1)\n",
            "Requirement already satisfied: typing-extensions>=4.8.0 in /usr/local/lib/python3.10/dist-packages (from torch) (4.12.2)\n",
            "Requirement already satisfied: networkx in /usr/local/lib/python3.10/dist-packages (from torch) (3.4.2)\n",
            "Requirement already satisfied: jinja2 in /usr/local/lib/python3.10/dist-packages (from torch) (3.1.4)\n",
            "Requirement already satisfied: fsspec in /usr/local/lib/python3.10/dist-packages (from torch) (2024.10.0)\n",
            "Requirement already satisfied: sympy==1.13.1 in /usr/local/lib/python3.10/dist-packages (from torch) (1.13.1)\n",
            "Requirement already satisfied: mpmath<1.4,>=1.1.0 in /usr/local/lib/python3.10/dist-packages (from sympy==1.13.1->torch) (1.3.0)\n",
            "Requirement already satisfied: absl-py in /usr/local/lib/python3.10/dist-packages (from mediapipe) (1.4.0)\n",
            "Requirement already satisfied: attrs>=19.1.0 in /usr/local/lib/python3.10/dist-packages (from mediapipe) (24.2.0)\n",
            "Requirement already satisfied: flatbuffers>=2.0 in /usr/local/lib/python3.10/dist-packages (from mediapipe) (24.3.25)\n",
            "Requirement already satisfied: jax in /usr/local/lib/python3.10/dist-packages (from mediapipe) (0.4.33)\n",
            "Requirement already satisfied: jaxlib in /usr/local/lib/python3.10/dist-packages (from mediapipe) (0.4.33)\n",
            "Requirement already satisfied: opencv-contrib-python in /usr/local/lib/python3.10/dist-packages (from mediapipe) (4.10.0.84)\n",
            "Requirement already satisfied: protobuf<5,>=4.25.3 in /usr/local/lib/python3.10/dist-packages (from mediapipe) (4.25.5)\n",
            "Collecting sounddevice>=0.4.4 (from mediapipe)\n",
            "  Downloading sounddevice-0.5.1-py3-none-any.whl.metadata (1.4 kB)\n",
            "Requirement already satisfied: sentencepiece in /usr/local/lib/python3.10/dist-packages (from mediapipe) (0.2.0)\n",
            "Requirement already satisfied: contourpy>=1.0.1 in /usr/local/lib/python3.10/dist-packages (from matplotlib) (1.3.1)\n",
            "Requirement already satisfied: cycler>=0.10 in /usr/local/lib/python3.10/dist-packages (from matplotlib) (0.12.1)\n",
            "Requirement already satisfied: fonttools>=4.22.0 in /usr/local/lib/python3.10/dist-packages (from matplotlib) (4.55.3)\n",
            "Requirement already satisfied: kiwisolver>=1.0.1 in /usr/local/lib/python3.10/dist-packages (from matplotlib) (1.4.7)\n",
            "Requirement already satisfied: packaging>=20.0 in /usr/local/lib/python3.10/dist-packages (from matplotlib) (24.2)\n",
            "Requirement already satisfied: pyparsing>=2.3.1 in /usr/local/lib/python3.10/dist-packages (from matplotlib) (3.2.0)\n",
            "Requirement already satisfied: python-dateutil>=2.7 in /usr/local/lib/python3.10/dist-packages (from matplotlib) (2.8.2)\n",
            "Requirement already satisfied: pytz>=2020.1 in /usr/local/lib/python3.10/dist-packages (from pandas>=1.1.4->ultralytics) (2024.2)\n",
            "Requirement already satisfied: tzdata>=2022.7 in /usr/local/lib/python3.10/dist-packages (from pandas>=1.1.4->ultralytics) (2024.2)\n",
            "Requirement already satisfied: six>=1.5 in /usr/local/lib/python3.10/dist-packages (from python-dateutil>=2.7->matplotlib) (1.17.0)\n",
            "Requirement already satisfied: charset-normalizer<4,>=2 in /usr/local/lib/python3.10/dist-packages (from requests>=2.23.0->ultralytics) (3.4.0)\n",
            "Requirement already satisfied: idna<4,>=2.5 in /usr/local/lib/python3.10/dist-packages (from requests>=2.23.0->ultralytics) (3.10)\n",
            "Requirement already satisfied: urllib3<3,>=1.21.1 in /usr/local/lib/python3.10/dist-packages (from requests>=2.23.0->ultralytics) (2.2.3)\n",
            "Requirement already satisfied: certifi>=2017.4.17 in /usr/local/lib/python3.10/dist-packages (from requests>=2.23.0->ultralytics) (2024.8.30)\n",
            "Requirement already satisfied: CFFI>=1.0 in /usr/local/lib/python3.10/dist-packages (from sounddevice>=0.4.4->mediapipe) (1.17.1)\n",
            "Requirement already satisfied: ml-dtypes>=0.2.0 in /usr/local/lib/python3.10/dist-packages (from jax->mediapipe) (0.4.1)\n",
            "Requirement already satisfied: opt-einsum in /usr/local/lib/python3.10/dist-packages (from jax->mediapipe) (3.4.0)\n",
            "Requirement already satisfied: MarkupSafe>=2.0 in /usr/local/lib/python3.10/dist-packages (from jinja2->torch) (3.0.2)\n",
            "Requirement already satisfied: pycparser in /usr/local/lib/python3.10/dist-packages (from CFFI>=1.0->sounddevice>=0.4.4->mediapipe) (2.22)\n",
            "Downloading ultralytics-8.3.50-py3-none-any.whl (898 kB)\n",
            "\u001b[2K   \u001b[90m━━━━━━━━━━━━━━━━━━━━━━━━━━━━━━━━━━━━━━━━\u001b[0m \u001b[32m899.0/899.0 kB\u001b[0m \u001b[31m37.3 MB/s\u001b[0m eta \u001b[36m0:00:00\u001b[0m\n",
            "\u001b[?25hDownloading mediapipe-0.10.20-cp310-cp310-manylinux_2_28_x86_64.whl (35.6 MB)\n",
            "\u001b[2K   \u001b[90m━━━━━━━━━━━━━━━━━━━━━━━━━━━━━━━━━━━━━━━━\u001b[0m \u001b[32m35.6/35.6 MB\u001b[0m \u001b[31m54.2 MB/s\u001b[0m eta \u001b[36m0:00:00\u001b[0m\n",
            "\u001b[?25hDownloading sounddevice-0.5.1-py3-none-any.whl (32 kB)\n",
            "Downloading ultralytics_thop-2.0.13-py3-none-any.whl (26 kB)\n",
            "Installing collected packages: sounddevice, ultralytics-thop, ultralytics, mediapipe\n",
            "Successfully installed mediapipe-0.10.20 sounddevice-0.5.1 ultralytics-8.3.50 ultralytics-thop-2.0.13\n"
          ]
        }
      ],
      "source": [
        "!pip install ultralytics torch torchvision opencv-python mediapipe numpy matplotlib"
      ]
    },
    {
      "cell_type": "code",
      "execution_count": null,
      "metadata": {
        "colab": {
          "base_uri": "https://localhost:8080/"
        },
        "collapsed": true,
        "id": "JiQYep2xmyoN",
        "outputId": "52333c32-5946-4b64-c293-4247cb904c10"
      },
      "outputs": [
        {
          "name": "stdout",
          "output_type": "stream",
          "text": [
            "Requirement already satisfied: tqdm in /usr/local/lib/python3.10/dist-packages (4.66.6)\n"
          ]
        }
      ],
      "source": [
        "pip install tqdm"
      ]
    },
    {
      "cell_type": "code",
      "execution_count": null,
      "metadata": {
        "colab": {
          "base_uri": "https://localhost:8080/"
        },
        "collapsed": true,
        "id": "fbPmC1r_igpH",
        "outputId": "7a55ad20-4786-4ca2-ab78-1d124e727382"
      },
      "outputs": [
        {
          "name": "stdout",
          "output_type": "stream",
          "text": [
            "Collecting twilio\n",
            "  Downloading twilio-9.4.1-py2.py3-none-any.whl.metadata (12 kB)\n",
            "Requirement already satisfied: requests>=2.0.0 in /usr/local/lib/python3.10/dist-packages (from twilio) (2.32.3)\n",
            "Requirement already satisfied: PyJWT<3.0.0,>=2.0.0 in /usr/local/lib/python3.10/dist-packages (from twilio) (2.10.1)\n",
            "Requirement already satisfied: aiohttp>=3.8.4 in /usr/local/lib/python3.10/dist-packages (from twilio) (3.11.10)\n",
            "Collecting aiohttp-retry==2.8.3 (from twilio)\n",
            "  Downloading aiohttp_retry-2.8.3-py3-none-any.whl.metadata (8.9 kB)\n",
            "Requirement already satisfied: aiohappyeyeballs>=2.3.0 in /usr/local/lib/python3.10/dist-packages (from aiohttp>=3.8.4->twilio) (2.4.4)\n",
            "Requirement already satisfied: aiosignal>=1.1.2 in /usr/local/lib/python3.10/dist-packages (from aiohttp>=3.8.4->twilio) (1.3.1)\n",
            "Requirement already satisfied: async-timeout<6.0,>=4.0 in /usr/local/lib/python3.10/dist-packages (from aiohttp>=3.8.4->twilio) (4.0.3)\n",
            "Requirement already satisfied: attrs>=17.3.0 in /usr/local/lib/python3.10/dist-packages (from aiohttp>=3.8.4->twilio) (24.2.0)\n",
            "Requirement already satisfied: frozenlist>=1.1.1 in /usr/local/lib/python3.10/dist-packages (from aiohttp>=3.8.4->twilio) (1.5.0)\n",
            "Requirement already satisfied: multidict<7.0,>=4.5 in /usr/local/lib/python3.10/dist-packages (from aiohttp>=3.8.4->twilio) (6.1.0)\n",
            "Requirement already satisfied: propcache>=0.2.0 in /usr/local/lib/python3.10/dist-packages (from aiohttp>=3.8.4->twilio) (0.2.1)\n",
            "Requirement already satisfied: yarl<2.0,>=1.17.0 in /usr/local/lib/python3.10/dist-packages (from aiohttp>=3.8.4->twilio) (1.18.3)\n",
            "Requirement already satisfied: charset-normalizer<4,>=2 in /usr/local/lib/python3.10/dist-packages (from requests>=2.0.0->twilio) (3.4.0)\n",
            "Requirement already satisfied: idna<4,>=2.5 in /usr/local/lib/python3.10/dist-packages (from requests>=2.0.0->twilio) (3.10)\n",
            "Requirement already satisfied: urllib3<3,>=1.21.1 in /usr/local/lib/python3.10/dist-packages (from requests>=2.0.0->twilio) (2.2.3)\n",
            "Requirement already satisfied: certifi>=2017.4.17 in /usr/local/lib/python3.10/dist-packages (from requests>=2.0.0->twilio) (2024.8.30)\n",
            "Requirement already satisfied: typing-extensions>=4.1.0 in /usr/local/lib/python3.10/dist-packages (from multidict<7.0,>=4.5->aiohttp>=3.8.4->twilio) (4.12.2)\n",
            "Downloading twilio-9.4.1-py2.py3-none-any.whl (1.9 MB)\n",
            "\u001b[2K   \u001b[90m━━━━━━━━━━━━━━━━━━━━━━━━━━━━━━━━━━━━━━━━\u001b[0m \u001b[32m1.9/1.9 MB\u001b[0m \u001b[31m49.6 MB/s\u001b[0m eta \u001b[36m0:00:00\u001b[0m\n",
            "\u001b[?25hDownloading aiohttp_retry-2.8.3-py3-none-any.whl (9.8 kB)\n",
            "Installing collected packages: aiohttp-retry, twilio\n",
            "Successfully installed aiohttp-retry-2.8.3 twilio-9.4.1\n"
          ]
        }
      ],
      "source": [
        "pip install twilio"
      ]
    },
    {
      "cell_type": "markdown",
      "metadata": {
        "id": "hF_j03yoA7Je"
      },
      "source": [
        "#YOLO Model Setup"
      ]
    },
    {
      "cell_type": "markdown",
      "metadata": {
        "id": "FW3JzV5kA_yG"
      },
      "source": [
        "##Function"
      ]
    },
    {
      "cell_type": "code",
      "execution_count": null,
      "metadata": {
        "colab": {
          "base_uri": "https://localhost:8080/"
        },
        "collapsed": true,
        "id": "0j1MnQKuA60l",
        "outputId": "b6e6d50c-4599-43e7-85cc-117d3d1a1755"
      },
      "outputs": [
        {
          "name": "stdout",
          "output_type": "stream",
          "text": [
            "Creating new Ultralytics Settings v0.0.6 file ✅ \n",
            "View Ultralytics Settings with 'yolo settings' or at '/root/.config/Ultralytics/settings.json'\n",
            "Update Settings with 'yolo settings key=value', i.e. 'yolo settings runs_dir=path/to/dir'. For help see https://docs.ultralytics.com/quickstart/#ultralytics-settings.\n",
            "Downloading https://github.com/ultralytics/assets/releases/download/v8.3.0/yolov8n.pt to 'yolov8n.pt'...\n"
          ]
        },
        {
          "name": "stderr",
          "output_type": "stream",
          "text": [
            "100%|██████████| 6.25M/6.25M [00:00<00:00, 254MB/s]\n"
          ]
        }
      ],
      "source": [
        "from ultralytics import YOLO\n",
        "import cv2\n",
        "import os\n",
        "\n",
        "# Initialize YOLO model\n",
        "model = YOLO('yolov8n.pt')\n",
        "\n",
        "def detect_bounding_boxes(video_path, output_folder):\n",
        "    \"\"\"\n",
        "    Detects bounding boxes of people in a video and saves cropped frames.\n",
        "    Args:\n",
        "        video_path (str): Path to the input video.\n",
        "        output_folder (str): Folder to save cropped frames.\n",
        "    \"\"\"\n",
        "    cap = cv2.VideoCapture(video_path)\n",
        "    frame_count = 0\n",
        "\n",
        "    if not os.path.exists(output_folder):\n",
        "        os.makedirs(output_folder)\n",
        "\n",
        "    while cap.isOpened():\n",
        "        ret, frame = cap.read()\n",
        "        if not ret:\n",
        "            break\n",
        "\n",
        "        # Perform detection\n",
        "        results = model(frame)\n",
        "        for result in results:\n",
        "            boxes = result.boxes.xyxy.cpu().numpy()\n",
        "            confs = result.boxes.conf.cpu().numpy()\n",
        "            classes = result.boxes.cls.cpu().numpy()\n",
        "\n",
        "            # Save frames with bounding boxes\n",
        "            for box, conf, cls in zip(boxes, confs, classes):\n",
        "                if int(cls) == 0 and conf > 0.5:  # Class 0 is for 'person'\n",
        "                    x1, y1, x2, y2 = map(int, box)\n",
        "                    cropped_person = frame[y1:y2, x1:x2]\n",
        "                    cv2.imwrite(f\"{output_folder}/frame_{frame_count}.jpg\", cropped_person)\n",
        "\n",
        "        frame_count += 1\n",
        "\n",
        "    cap.release()\n",
        "    print(f\"Bounding boxes detected and saved in {output_folder}\")\n"
      ]
    },
    {
      "cell_type": "markdown",
      "metadata": {
        "id": "544zD-vlBB81"
      },
      "source": [
        "##Execution"
      ]
    },
    {
      "cell_type": "code",
      "execution_count": null,
      "metadata": {
        "colab": {
          "base_uri": "https://localhost:8080/",
          "height": 377
        },
        "collapsed": true,
        "id": "djB6_vP9AyJ2",
        "outputId": "ad6ed363-aaac-46ff-a644-3727caf9c225"
      },
      "outputs": [
        {
          "data": {
            "text/html": [
              "\n",
              "     <input type=\"file\" id=\"files-1f9644de-6c06-4c7a-85da-a569f5d1ea41\" name=\"files[]\" multiple disabled\n",
              "        style=\"border:none\" />\n",
              "     <output id=\"result-1f9644de-6c06-4c7a-85da-a569f5d1ea41\">\n",
              "      Upload widget is only available when the cell has been executed in the\n",
              "      current browser session. Please rerun this cell to enable.\n",
              "      </output>\n",
              "      <script>// Copyright 2017 Google LLC\n",
              "//\n",
              "// Licensed under the Apache License, Version 2.0 (the \"License\");\n",
              "// you may not use this file except in compliance with the License.\n",
              "// You may obtain a copy of the License at\n",
              "//\n",
              "//      http://www.apache.org/licenses/LICENSE-2.0\n",
              "//\n",
              "// Unless required by applicable law or agreed to in writing, software\n",
              "// distributed under the License is distributed on an \"AS IS\" BASIS,\n",
              "// WITHOUT WARRANTIES OR CONDITIONS OF ANY KIND, either express or implied.\n",
              "// See the License for the specific language governing permissions and\n",
              "// limitations under the License.\n",
              "\n",
              "/**\n",
              " * @fileoverview Helpers for google.colab Python module.\n",
              " */\n",
              "(function(scope) {\n",
              "function span(text, styleAttributes = {}) {\n",
              "  const element = document.createElement('span');\n",
              "  element.textContent = text;\n",
              "  for (const key of Object.keys(styleAttributes)) {\n",
              "    element.style[key] = styleAttributes[key];\n",
              "  }\n",
              "  return element;\n",
              "}\n",
              "\n",
              "// Max number of bytes which will be uploaded at a time.\n",
              "const MAX_PAYLOAD_SIZE = 100 * 1024;\n",
              "\n",
              "function _uploadFiles(inputId, outputId) {\n",
              "  const steps = uploadFilesStep(inputId, outputId);\n",
              "  const outputElement = document.getElementById(outputId);\n",
              "  // Cache steps on the outputElement to make it available for the next call\n",
              "  // to uploadFilesContinue from Python.\n",
              "  outputElement.steps = steps;\n",
              "\n",
              "  return _uploadFilesContinue(outputId);\n",
              "}\n",
              "\n",
              "// This is roughly an async generator (not supported in the browser yet),\n",
              "// where there are multiple asynchronous steps and the Python side is going\n",
              "// to poll for completion of each step.\n",
              "// This uses a Promise to block the python side on completion of each step,\n",
              "// then passes the result of the previous step as the input to the next step.\n",
              "function _uploadFilesContinue(outputId) {\n",
              "  const outputElement = document.getElementById(outputId);\n",
              "  const steps = outputElement.steps;\n",
              "\n",
              "  const next = steps.next(outputElement.lastPromiseValue);\n",
              "  return Promise.resolve(next.value.promise).then((value) => {\n",
              "    // Cache the last promise value to make it available to the next\n",
              "    // step of the generator.\n",
              "    outputElement.lastPromiseValue = value;\n",
              "    return next.value.response;\n",
              "  });\n",
              "}\n",
              "\n",
              "/**\n",
              " * Generator function which is called between each async step of the upload\n",
              " * process.\n",
              " * @param {string} inputId Element ID of the input file picker element.\n",
              " * @param {string} outputId Element ID of the output display.\n",
              " * @return {!Iterable<!Object>} Iterable of next steps.\n",
              " */\n",
              "function* uploadFilesStep(inputId, outputId) {\n",
              "  const inputElement = document.getElementById(inputId);\n",
              "  inputElement.disabled = false;\n",
              "\n",
              "  const outputElement = document.getElementById(outputId);\n",
              "  outputElement.innerHTML = '';\n",
              "\n",
              "  const pickedPromise = new Promise((resolve) => {\n",
              "    inputElement.addEventListener('change', (e) => {\n",
              "      resolve(e.target.files);\n",
              "    });\n",
              "  });\n",
              "\n",
              "  const cancel = document.createElement('button');\n",
              "  inputElement.parentElement.appendChild(cancel);\n",
              "  cancel.textContent = 'Cancel upload';\n",
              "  const cancelPromise = new Promise((resolve) => {\n",
              "    cancel.onclick = () => {\n",
              "      resolve(null);\n",
              "    };\n",
              "  });\n",
              "\n",
              "  // Wait for the user to pick the files.\n",
              "  const files = yield {\n",
              "    promise: Promise.race([pickedPromise, cancelPromise]),\n",
              "    response: {\n",
              "      action: 'starting',\n",
              "    }\n",
              "  };\n",
              "\n",
              "  cancel.remove();\n",
              "\n",
              "  // Disable the input element since further picks are not allowed.\n",
              "  inputElement.disabled = true;\n",
              "\n",
              "  if (!files) {\n",
              "    return {\n",
              "      response: {\n",
              "        action: 'complete',\n",
              "      }\n",
              "    };\n",
              "  }\n",
              "\n",
              "  for (const file of files) {\n",
              "    const li = document.createElement('li');\n",
              "    li.append(span(file.name, {fontWeight: 'bold'}));\n",
              "    li.append(span(\n",
              "        `(${file.type || 'n/a'}) - ${file.size} bytes, ` +\n",
              "        `last modified: ${\n",
              "            file.lastModifiedDate ? file.lastModifiedDate.toLocaleDateString() :\n",
              "                                    'n/a'} - `));\n",
              "    const percent = span('0% done');\n",
              "    li.appendChild(percent);\n",
              "\n",
              "    outputElement.appendChild(li);\n",
              "\n",
              "    const fileDataPromise = new Promise((resolve) => {\n",
              "      const reader = new FileReader();\n",
              "      reader.onload = (e) => {\n",
              "        resolve(e.target.result);\n",
              "      };\n",
              "      reader.readAsArrayBuffer(file);\n",
              "    });\n",
              "    // Wait for the data to be ready.\n",
              "    let fileData = yield {\n",
              "      promise: fileDataPromise,\n",
              "      response: {\n",
              "        action: 'continue',\n",
              "      }\n",
              "    };\n",
              "\n",
              "    // Use a chunked sending to avoid message size limits. See b/62115660.\n",
              "    let position = 0;\n",
              "    do {\n",
              "      const length = Math.min(fileData.byteLength - position, MAX_PAYLOAD_SIZE);\n",
              "      const chunk = new Uint8Array(fileData, position, length);\n",
              "      position += length;\n",
              "\n",
              "      const base64 = btoa(String.fromCharCode.apply(null, chunk));\n",
              "      yield {\n",
              "        response: {\n",
              "          action: 'append',\n",
              "          file: file.name,\n",
              "          data: base64,\n",
              "        },\n",
              "      };\n",
              "\n",
              "      let percentDone = fileData.byteLength === 0 ?\n",
              "          100 :\n",
              "          Math.round((position / fileData.byteLength) * 100);\n",
              "      percent.textContent = `${percentDone}% done`;\n",
              "\n",
              "    } while (position < fileData.byteLength);\n",
              "  }\n",
              "\n",
              "  // All done.\n",
              "  yield {\n",
              "    response: {\n",
              "      action: 'complete',\n",
              "    }\n",
              "  };\n",
              "}\n",
              "\n",
              "scope.google = scope.google || {};\n",
              "scope.google.colab = scope.google.colab || {};\n",
              "scope.google.colab._files = {\n",
              "  _uploadFiles,\n",
              "  _uploadFilesContinue,\n",
              "};\n",
              "})(self);\n",
              "</script> "
            ],
            "text/plain": [
              "<IPython.core.display.HTML object>"
            ]
          },
          "metadata": {},
          "output_type": "display_data"
        },
        {
          "name": "stdout",
          "output_type": "stream",
          "text": [
            "Saving person_walking.mp4 to person_walking.mp4\n"
          ]
        },
        {
          "ename": "AttributeError",
          "evalue": "'numpy.ndarray' object has no attribute 'dim'",
          "output_type": "error",
          "traceback": [
            "\u001b[0;31m---------------------------------------------------------------------------\u001b[0m",
            "\u001b[0;31mAttributeError\u001b[0m                            Traceback (most recent call last)",
            "\u001b[0;32m<ipython-input-46-ab03cf214ac0>\u001b[0m in \u001b[0;36m<cell line: 9>\u001b[0;34m()\u001b[0m\n\u001b[1;32m      7\u001b[0m \u001b[0;34m\u001b[0m\u001b[0m\n\u001b[1;32m      8\u001b[0m \u001b[0;31m# Detect bounding boxes and save frames\u001b[0m\u001b[0;34m\u001b[0m\u001b[0;34m\u001b[0m\u001b[0m\n\u001b[0;32m----> 9\u001b[0;31m \u001b[0mdetect_bounding_boxes\u001b[0m\u001b[0;34m(\u001b[0m\u001b[0mvideo_path\u001b[0m\u001b[0;34m,\u001b[0m \u001b[0moutput_folder\u001b[0m\u001b[0;34m)\u001b[0m\u001b[0;34m\u001b[0m\u001b[0;34m\u001b[0m\u001b[0m\n\u001b[0m",
            "\u001b[0;32m<ipython-input-5-2165cccfde32>\u001b[0m in \u001b[0;36mdetect_bounding_boxes\u001b[0;34m(video_path, output_folder)\u001b[0m\n\u001b[1;32m     25\u001b[0m \u001b[0;34m\u001b[0m\u001b[0m\n\u001b[1;32m     26\u001b[0m         \u001b[0;31m# Perform detection\u001b[0m\u001b[0;34m\u001b[0m\u001b[0;34m\u001b[0m\u001b[0m\n\u001b[0;32m---> 27\u001b[0;31m         \u001b[0mresults\u001b[0m \u001b[0;34m=\u001b[0m \u001b[0mmodel\u001b[0m\u001b[0;34m(\u001b[0m\u001b[0mframe\u001b[0m\u001b[0;34m)\u001b[0m\u001b[0;34m\u001b[0m\u001b[0;34m\u001b[0m\u001b[0m\n\u001b[0m\u001b[1;32m     28\u001b[0m         \u001b[0;32mfor\u001b[0m \u001b[0mresult\u001b[0m \u001b[0;32min\u001b[0m \u001b[0mresults\u001b[0m\u001b[0;34m:\u001b[0m\u001b[0;34m\u001b[0m\u001b[0;34m\u001b[0m\u001b[0m\n\u001b[1;32m     29\u001b[0m             \u001b[0mboxes\u001b[0m \u001b[0;34m=\u001b[0m \u001b[0mresult\u001b[0m\u001b[0;34m.\u001b[0m\u001b[0mboxes\u001b[0m\u001b[0;34m.\u001b[0m\u001b[0mxyxy\u001b[0m\u001b[0;34m.\u001b[0m\u001b[0mcpu\u001b[0m\u001b[0;34m(\u001b[0m\u001b[0;34m)\u001b[0m\u001b[0;34m.\u001b[0m\u001b[0mnumpy\u001b[0m\u001b[0;34m(\u001b[0m\u001b[0;34m)\u001b[0m\u001b[0;34m\u001b[0m\u001b[0;34m\u001b[0m\u001b[0m\n",
            "\u001b[0;32m/usr/local/lib/python3.10/dist-packages/torch/nn/modules/module.py\u001b[0m in \u001b[0;36m_wrapped_call_impl\u001b[0;34m(self, *args, **kwargs)\u001b[0m\n\u001b[1;32m   1734\u001b[0m             \u001b[0;32mreturn\u001b[0m \u001b[0mself\u001b[0m\u001b[0;34m.\u001b[0m\u001b[0m_compiled_call_impl\u001b[0m\u001b[0;34m(\u001b[0m\u001b[0;34m*\u001b[0m\u001b[0margs\u001b[0m\u001b[0;34m,\u001b[0m \u001b[0;34m**\u001b[0m\u001b[0mkwargs\u001b[0m\u001b[0;34m)\u001b[0m  \u001b[0;31m# type: ignore[misc]\u001b[0m\u001b[0;34m\u001b[0m\u001b[0;34m\u001b[0m\u001b[0m\n\u001b[1;32m   1735\u001b[0m         \u001b[0;32melse\u001b[0m\u001b[0;34m:\u001b[0m\u001b[0;34m\u001b[0m\u001b[0;34m\u001b[0m\u001b[0m\n\u001b[0;32m-> 1736\u001b[0;31m             \u001b[0;32mreturn\u001b[0m \u001b[0mself\u001b[0m\u001b[0;34m.\u001b[0m\u001b[0m_call_impl\u001b[0m\u001b[0;34m(\u001b[0m\u001b[0;34m*\u001b[0m\u001b[0margs\u001b[0m\u001b[0;34m,\u001b[0m \u001b[0;34m**\u001b[0m\u001b[0mkwargs\u001b[0m\u001b[0;34m)\u001b[0m\u001b[0;34m\u001b[0m\u001b[0;34m\u001b[0m\u001b[0m\n\u001b[0m\u001b[1;32m   1737\u001b[0m \u001b[0;34m\u001b[0m\u001b[0m\n\u001b[1;32m   1738\u001b[0m     \u001b[0;31m# torchrec tests the code consistency with the following code\u001b[0m\u001b[0;34m\u001b[0m\u001b[0;34m\u001b[0m\u001b[0m\n",
            "\u001b[0;32m/usr/local/lib/python3.10/dist-packages/torch/nn/modules/module.py\u001b[0m in \u001b[0;36m_call_impl\u001b[0;34m(self, *args, **kwargs)\u001b[0m\n\u001b[1;32m   1745\u001b[0m                 \u001b[0;32mor\u001b[0m \u001b[0m_global_backward_pre_hooks\u001b[0m \u001b[0;32mor\u001b[0m \u001b[0m_global_backward_hooks\u001b[0m\u001b[0;34m\u001b[0m\u001b[0;34m\u001b[0m\u001b[0m\n\u001b[1;32m   1746\u001b[0m                 or _global_forward_hooks or _global_forward_pre_hooks):\n\u001b[0;32m-> 1747\u001b[0;31m             \u001b[0;32mreturn\u001b[0m \u001b[0mforward_call\u001b[0m\u001b[0;34m(\u001b[0m\u001b[0;34m*\u001b[0m\u001b[0margs\u001b[0m\u001b[0;34m,\u001b[0m \u001b[0;34m**\u001b[0m\u001b[0mkwargs\u001b[0m\u001b[0;34m)\u001b[0m\u001b[0;34m\u001b[0m\u001b[0;34m\u001b[0m\u001b[0m\n\u001b[0m\u001b[1;32m   1748\u001b[0m \u001b[0;34m\u001b[0m\u001b[0m\n\u001b[1;32m   1749\u001b[0m         \u001b[0mresult\u001b[0m \u001b[0;34m=\u001b[0m \u001b[0;32mNone\u001b[0m\u001b[0;34m\u001b[0m\u001b[0;34m\u001b[0m\u001b[0m\n",
            "\u001b[0;32m<ipython-input-11-fe60d1ee7c7c>\u001b[0m in \u001b[0;36mforward\u001b[0;34m(self, x)\u001b[0m\n\u001b[1;32m     27\u001b[0m \u001b[0;34m\u001b[0m\u001b[0m\n\u001b[1;32m     28\u001b[0m     \u001b[0;32mdef\u001b[0m \u001b[0mforward\u001b[0m\u001b[0;34m(\u001b[0m\u001b[0mself\u001b[0m\u001b[0;34m,\u001b[0m \u001b[0mx\u001b[0m\u001b[0;34m)\u001b[0m\u001b[0;34m:\u001b[0m\u001b[0;34m\u001b[0m\u001b[0;34m\u001b[0m\u001b[0m\n\u001b[0;32m---> 29\u001b[0;31m         \u001b[0;32mif\u001b[0m \u001b[0mx\u001b[0m\u001b[0;34m.\u001b[0m\u001b[0mdim\u001b[0m\u001b[0;34m(\u001b[0m\u001b[0;34m)\u001b[0m \u001b[0;34m==\u001b[0m \u001b[0;36m3\u001b[0m\u001b[0;34m:\u001b[0m\u001b[0;34m\u001b[0m\u001b[0;34m\u001b[0m\u001b[0m\n\u001b[0m\u001b[1;32m     30\u001b[0m             \u001b[0mx\u001b[0m \u001b[0;34m=\u001b[0m \u001b[0mx\u001b[0m\u001b[0;34m.\u001b[0m\u001b[0munsqueeze\u001b[0m\u001b[0;34m(\u001b[0m\u001b[0;36m1\u001b[0m\u001b[0;34m)\u001b[0m  \u001b[0;31m# Shape becomes (batch_size, 1, num_keypoints, num_frames)\u001b[0m\u001b[0;34m\u001b[0m\u001b[0;34m\u001b[0m\u001b[0m\n\u001b[1;32m     31\u001b[0m \u001b[0;34m\u001b[0m\u001b[0m\n",
            "\u001b[0;31mAttributeError\u001b[0m: 'numpy.ndarray' object has no attribute 'dim'"
          ]
        }
      ],
      "source": [
        "from google.colab import files\n",
        "\n",
        "# Upload video\n",
        "uploaded = files.upload()\n",
        "video_path = list(uploaded.keys())[0]\n",
        "output_folder = '/content/cropped_frames'\n",
        "\n",
        "# Detect bounding boxes and save frames\n",
        "detect_bounding_boxes(video_path, output_folder)\n"
      ]
    },
    {
      "cell_type": "code",
      "execution_count": null,
      "metadata": {
        "colab": {
          "base_uri": "https://localhost:8080/"
        },
        "id": "esp1j57XWHXh",
        "outputId": "2fc254cc-6a57-4483-bdc9-b13a04de2d3b"
      },
      "outputs": [
        {
          "name": "stdout",
          "output_type": "stream",
          "text": [
            "person_walking.mp4\n"
          ]
        }
      ],
      "source": [
        "print(video_path)"
      ]
    },
    {
      "cell_type": "markdown",
      "metadata": {
        "id": "PKpO5nJeDla0"
      },
      "source": [
        "#Pose Keypoint Extraction"
      ]
    },
    {
      "cell_type": "markdown",
      "metadata": {
        "id": "Xs2tmX30Dtgr"
      },
      "source": [
        "##Function"
      ]
    },
    {
      "cell_type": "code",
      "execution_count": null,
      "metadata": {
        "id": "ZlDx_NwIDsnV"
      },
      "outputs": [],
      "source": [
        "import mediapipe as mp\n",
        "import numpy as np\n",
        "import cv2\n",
        "import os\n",
        "\n",
        "def extract_keypoints_and_labels(image_folder, output_keypoints_path, output_labels_path):\n",
        "    \"\"\"\n",
        "    Extracts pose keypoints and labels from images.\n",
        "    Args:\n",
        "        image_folder (str): Path to the folder containing images.\n",
        "        output_keypoints_path (str): Path to save the keypoints numpy file.\n",
        "        output_labels_path (str): Path to save the labels numpy file.\n",
        "    \"\"\"\n",
        "    mp_pose = mp.solutions.pose\n",
        "    pose = mp_pose.Pose(static_image_mode=True)\n",
        "    keypoints_list = []\n",
        "    labels_list = []\n",
        "\n",
        "    for image_name in os.listdir(image_folder):\n",
        "        if image_name.endswith('.jpg') or image_name.endswith('.png'):\n",
        "            image_path = os.path.join(image_folder, image_name)\n",
        "            label = 1 if 'fallen' in image_name.lower() else 0\n",
        "\n",
        "            image = cv2.imread(image_path)\n",
        "            image_rgb = cv2.cvtColor(image, cv2.COLOR_BGR2RGB)\n",
        "            results = pose.process(image_rgb)\n",
        "\n",
        "            if results.pose_landmarks:\n",
        "                keypoints = [\n",
        "                    [lm.x, lm.y, lm.z]\n",
        "                    for lm in results.pose_landmarks.landmark\n",
        "                ]\n",
        "            else:\n",
        "                # If no pose is detected, add zeros\n",
        "                keypoints = [[0, 0, 0] for _ in range(33)]\n",
        "\n",
        "            keypoints_list.append(keypoints)\n",
        "            labels_list.append(label)\n",
        "\n",
        "    pose.close()\n",
        "\n",
        "    # Save keypoints and labels as numpy arrays\n",
        "    keypoints_array = np.array(keypoints_list)\n",
        "    labels_array = np.array(labels_list)\n",
        "    np.save(output_keypoints_path, keypoints_array)\n",
        "    np.save(output_labels_path, labels_array)\n",
        "    print(f\"Keypoints saved to {output_keypoints_path}\")\n",
        "    print(f\"Labels saved to {output_labels_path}\")\n"
      ]
    },
    {
      "cell_type": "markdown",
      "metadata": {
        "id": "kKDHiXSDDyIL"
      },
      "source": [
        "##Execution"
      ]
    },
    {
      "cell_type": "code",
      "execution_count": null,
      "metadata": {
        "colab": {
          "base_uri": "https://localhost:8080/"
        },
        "id": "roBcC3yRD0Sq",
        "outputId": "e71233c8-3307-4e7e-bdb4-11d717a7d141"
      },
      "outputs": [
        {
          "name": "stdout",
          "output_type": "stream",
          "text": [
            "Mounted at /content/drive\n",
            "Keypoints saved to /content/drive/MyDrive/STGCN_Dataset/train_keypoints.npy\n",
            "Labels saved to /content/drive/MyDrive/STGCN_Dataset/train_labels.npy\n",
            "Keypoints saved to /content/drive/MyDrive/STGCN_Dataset/validation_keypoints.npy\n",
            "Labels saved to /content/drive/MyDrive/STGCN_Dataset/validation_labels.npy\n"
          ]
        }
      ],
      "source": [
        "# Mount Drive to load dataset\n",
        "from google.colab import drive\n",
        "drive.mount('/content/drive')\n",
        "\n",
        "# Paths to your datasets\n",
        "train_images_path = '/content/drive/MyDrive/STGCN_Dataset/images/train'\n",
        "validation_images_path = '/content/drive/MyDrive/STGCN_Dataset/images/validation'\n",
        "\n",
        "# Output paths for keypoints and labels\n",
        "train_keypoints_path = '/content/drive/MyDrive/STGCN_Dataset/train_keypoints.npy'\n",
        "train_labels_path = '/content/drive/MyDrive/STGCN_Dataset/train_labels.npy'\n",
        "validation_keypoints_path = '/content/drive/MyDrive/STGCN_Dataset/validation_keypoints.npy'\n",
        "validation_labels_path = '/content/drive/MyDrive/STGCN_Dataset/validation_labels.npy'\n",
        "\n",
        "# Extract keypoints and labels for train and validation datasets\n",
        "extract_keypoints_and_labels(train_images_path, train_keypoints_path, train_labels_path)\n",
        "extract_keypoints_and_labels(validation_images_path, validation_keypoints_path, validation_labels_path)\n"
      ]
    },
    {
      "cell_type": "code",
      "execution_count": null,
      "metadata": {
        "colab": {
          "base_uri": "https://localhost:8080/"
        },
        "id": "z8sMojD0HcBq",
        "outputId": "0ef952b8-ede7-4668-a294-c426f77ab8e7"
      },
      "outputs": [
        {
          "name": "stdout",
          "output_type": "stream",
          "text": [
            "Train Keypoints Shape: (332, 33, 3)\n",
            "Train Labels Shape: (332,)\n",
            "Validation Keypoints Shape: (86, 33, 3)\n",
            "Validation Labels Shape: (86,)\n"
          ]
        }
      ],
      "source": [
        "# Verify train keypoints and labels\n",
        "train_keypoints = np.load(train_keypoints_path)\n",
        "train_labels = np.load(train_labels_path)\n",
        "print(\"Train Keypoints Shape:\", train_keypoints.shape)\n",
        "print(\"Train Labels Shape:\", train_labels.shape)\n",
        "\n",
        "# Verify validation keypoints and labels\n",
        "validation_keypoints = np.load(validation_keypoints_path)\n",
        "validation_labels = np.load(validation_labels_path)\n",
        "print(\"Validation Keypoints Shape:\", validation_keypoints.shape)\n",
        "print(\"Validation Labels Shape:\", validation_labels.shape)\n"
      ]
    },
    {
      "cell_type": "markdown",
      "metadata": {
        "id": "ROGIc7ccD9Ez"
      },
      "source": [
        "#STGCN Model Definition"
      ]
    },
    {
      "cell_type": "code",
      "execution_count": null,
      "metadata": {
        "id": "sb4KhN7-KeXW"
      },
      "outputs": [],
      "source": [
        "import torch\n",
        "import torch.nn as nn\n",
        "from torch.utils.data import Dataset, DataLoader\n",
        "\n",
        "# Define the STGCN layer\n",
        "class STGCNLayer(nn.Module):\n",
        "    def __init__(self, in_channels, out_channels, kernel_size_spatial=25, kernel_size_temporal=3):\n",
        "        super(STGCNLayer, self).__init__()\n",
        "        self.spatial_conv = nn.Conv2d(in_channels, out_channels, kernel_size=(1, kernel_size_spatial), padding=(0, kernel_size_spatial // 2))\n",
        "        self.temporal_conv = nn.Conv2d(out_channels, out_channels, kernel_size=(kernel_size_temporal, 1), padding=(kernel_size_temporal // 2))\n",
        "        self.bn = nn.BatchNorm2d(out_channels)\n",
        "\n",
        "    def forward(self, x):\n",
        "        x = self.spatial_conv(x)  # Spatial convolution\n",
        "        x = torch.relu(x)\n",
        "        x = self.temporal_conv(x)  # Temporal convolution\n",
        "        x = self.bn(torch.relu(x))  # Batch normalization\n",
        "        return x\n",
        "\n",
        "# Define the full STGCN model\n",
        "class STGCN(nn.Module):\n",
        "    def __init__(self, num_keypoints, num_classes):\n",
        "        super(STGCN, self).__init__()\n",
        "        self.stgcn1 = STGCNLayer(1, 64, num_keypoints)  # Change input channels to 1\n",
        "        self.stgcn2 = STGCNLayer(64, 64, num_keypoints)\n",
        "        self.fc = nn.Linear(64, num_classes)\n",
        "\n",
        "    def forward(self, x):\n",
        "        if x.dim() == 3:\n",
        "            x = x.unsqueeze(1)  # Shape becomes (batch_size, 1, num_keypoints, num_frames)\n",
        "\n",
        "        x = x.permute(0, 1, 3, 2)  # Reorder to (batch_size, in_channels, num_frames, num_keypoints)\n",
        "        x = self.stgcn1(x)\n",
        "        x = self.stgcn2(x)\n",
        "        x = x.mean(dim=[2, 3])  # Global average pooling (across frames and keypoints)\n",
        "        return self.fc(x)\n",
        "\n",
        "\n",
        "# Dataset class\n",
        "class PoseDataset(Dataset):\n",
        "    def __init__(self, keypoints, labels):\n",
        "        self.keypoints = torch.tensor(keypoints, dtype=torch.float32)  # Shape: (N, num_keypoints, 3)\n",
        "        self.labels = torch.tensor(labels, dtype=torch.long)\n",
        "\n",
        "    def __len__(self):\n",
        "        return len(self.labels)\n",
        "\n",
        "    def __getitem__(self, idx):\n",
        "        return self.keypoints[idx], self.labels[idx]\n"
      ]
    },
    {
      "cell_type": "markdown",
      "metadata": {
        "id": "Zr2gwB-SESm7"
      },
      "source": [
        "#Training the STGCN Model"
      ]
    },
    {
      "cell_type": "markdown",
      "metadata": {
        "id": "wFxfzU1HtHij"
      },
      "source": [
        "##Function"
      ]
    },
    {
      "cell_type": "code",
      "execution_count": null,
      "metadata": {
        "id": "R0J-nXprHFkG"
      },
      "outputs": [],
      "source": [
        "from tqdm import tqdm\n",
        "\n",
        "def train_stgcn(train_keypoints, train_labels, val_keypoints, val_labels, model_path, num_epochs=10, batch_size=16):\n",
        "    # Define the device\n",
        "    device = torch.device(\"cuda\" if torch.cuda.is_available() else \"cpu\")\n",
        "\n",
        "    # Convert inputs to tensors, if not already done\n",
        "    train_keypoints = torch.tensor(train_keypoints, dtype=torch.float32).to(device)\n",
        "    train_labels = torch.tensor(train_labels, dtype=torch.int64).to(device)\n",
        "    val_keypoints = torch.tensor(val_keypoints, dtype=torch.float32).to(device)\n",
        "    val_labels = torch.tensor(val_labels, dtype=torch.int64).to(device)\n",
        "\n",
        "    # Create DataLoader\n",
        "    train_dataset = torch.utils.data.TensorDataset(train_keypoints, train_labels)\n",
        "    val_dataset = torch.utils.data.TensorDataset(val_keypoints, val_labels)\n",
        "\n",
        "    train_loader = torch.utils.data.DataLoader(train_dataset, batch_size=batch_size, shuffle=True)\n",
        "    val_loader = torch.utils.data.DataLoader(val_dataset, batch_size=batch_size, shuffle=False)\n",
        "\n",
        "    # Initialize the model with correct input channels and output classes\n",
        "    model = STGCN(num_keypoints=train_keypoints.shape[2], num_classes=2)  # Assuming 33 keypoints and 2 classes\n",
        "    model = model.to(device)\n",
        "\n",
        "    # Define Loss and Optimizer\n",
        "    criterion = nn.CrossEntropyLoss()\n",
        "    optimizer = torch.optim.Adam(model.parameters(), lr=0.001)\n",
        "\n",
        "    for epoch in range(num_epochs):\n",
        "        model.train()\n",
        "        running_loss = 0.0\n",
        "        for keypoints, labels in tqdm(train_loader, desc=f\"Training Epoch {epoch+1}\"):\n",
        "            keypoints, labels = keypoints.to(device), labels.to(device)\n",
        "            optimizer.zero_grad()\n",
        "\n",
        "            # Forward pass\n",
        "            outputs = model(keypoints)\n",
        "            loss = criterion(outputs, labels)\n",
        "\n",
        "            # Backward pass and optimization\n",
        "            loss.backward()\n",
        "            optimizer.step()\n",
        "\n",
        "            running_loss += loss.item()\n",
        "\n",
        "        avg_train_loss = running_loss / len(train_loader)\n",
        "        print(f\"Epoch [{epoch+1}/{num_epochs}], Loss: {avg_train_loss:.4f}\")\n",
        "\n",
        "        # Validation step\n",
        "        model.eval()\n",
        "        correct = 0\n",
        "        total = 0\n",
        "        with torch.no_grad():\n",
        "            for keypoints, labels in val_loader:\n",
        "                keypoints, labels = keypoints.to(device), labels.to(device)\n",
        "                outputs = model(keypoints)\n",
        "                _, predicted = torch.max(outputs, 1)\n",
        "                total += labels.size(0)\n",
        "                correct += (predicted == labels).sum().item()\n",
        "\n",
        "        accuracy = 100 * correct / total\n",
        "        print(f\"Validation Accuracy: {accuracy:.2f}%\")\n",
        "\n",
        "    # Save the trained model\n",
        "    torch.save(model.state_dict(), model_path)\n"
      ]
    },
    {
      "cell_type": "markdown",
      "metadata": {
        "id": "vgydo3nGK91G"
      },
      "source": [
        "##Execution"
      ]
    },
    {
      "cell_type": "code",
      "execution_count": null,
      "metadata": {
        "colab": {
          "base_uri": "https://localhost:8080/"
        },
        "id": "4Pg4RiGLK_0y",
        "outputId": "a8f408b7-6b4d-4da2-ec70-878dfc8130bf"
      },
      "outputs": [
        {
          "name": "stdout",
          "output_type": "stream",
          "text": [
            "Train Keypoints shape: (332, 3, 33)\n",
            "Train Labels shape: (332,)\n",
            "Validation Keypoints shape: (86, 3, 33)\n",
            "Validation Labels shape: (86,)\n"
          ]
        }
      ],
      "source": [
        "# Load dataset\n",
        "train_keypoints = np.load('/content/drive/MyDrive/STGCN_Dataset/train_keypoints.npy')\n",
        "train_labels = np.load('/content/drive/MyDrive/STGCN_Dataset/train_labels.npy')\n",
        "\n",
        "validation_keypoints = np.load('/content/drive/MyDrive/STGCN_Dataset/validation_keypoints.npy')\n",
        "validation_labels = np.load('/content/drive/MyDrive/STGCN_Dataset/validation_labels.npy')\n",
        "\n",
        "# Reshape the keypoints for STGCN\n",
        "train_keypoints = train_keypoints.transpose(0, 2, 1)  # Shape: (332, 33, 3)\n",
        "validation_keypoints = validation_keypoints.transpose(0, 2, 1)  # Shape: (86, 33, 3)\n",
        "\n",
        "# Ensure the shapes are correct\n",
        "print(f'Train Keypoints shape: {train_keypoints.shape}')\n",
        "print(f'Train Labels shape: {train_labels.shape}')\n",
        "print(f'Validation Keypoints shape: {validation_keypoints.shape}')\n",
        "print(f'Validation Labels shape: {validation_labels.shape}')\n",
        "\n",
        "# Train STGCN model\n",
        "model_path = '/content/drive/MyDrive/STGCN_Dataset/stgcn_model.pth'\n",
        "\n",
        "#train_stgcn(train_keypoints, train_labels, validation_keypoints, validation_labels, model_path, num_epochs=10, batch_size=16)\n"
      ]
    },
    {
      "cell_type": "code",
      "execution_count": null,
      "metadata": {
        "colab": {
          "base_uri": "https://localhost:8080/"
        },
        "id": "Z9hVtTspsw5V",
        "outputId": "29e3ec44-97c7-4192-fb05-cee7e4ec9ac5"
      },
      "outputs": [
        {
          "name": "stdout",
          "output_type": "stream",
          "text": [
            "Train Keypoints shape: (332, 3, 33), dtype: float64\n",
            "Train Labels shape: torch.Size([332]), dtype: torch.int64\n",
            "Validation Keypoints shape: (86, 3, 33), dtype: float64\n",
            "Validation Labels shape: torch.Size([86]), dtype: torch.int64\n"
          ]
        }
      ],
      "source": [
        "import torch\n",
        "\n",
        "# Convert labels from numpy arrays to PyTorch tensors and ensure they are integers\n",
        "train_labels = torch.tensor(train_labels).long()\n",
        "val_labels = torch.tensor(validation_labels).long()\n",
        "\n",
        "print(f\"Train Keypoints shape: {train_keypoints.shape}, dtype: {train_keypoints.dtype}\")\n",
        "print(f\"Train Labels shape: {train_labels.shape}, dtype: {train_labels.dtype}\")\n",
        "print(f\"Validation Keypoints shape: {validation_keypoints.shape}, dtype: {validation_keypoints.dtype}\")\n",
        "print(f\"Validation Labels shape: {val_labels.shape}, dtype: {val_labels.dtype}\")\n"
      ]
    },
    {
      "cell_type": "code",
      "execution_count": null,
      "metadata": {
        "colab": {
          "base_uri": "https://localhost:8080/"
        },
        "id": "AVtij-n3rw3q",
        "outputId": "7e70490e-ce06-47c0-c077-fcc20fe3e26c"
      },
      "outputs": [
        {
          "name": "stderr",
          "output_type": "stream",
          "text": [
            "<ipython-input-12-90dbd9c70c19>:9: UserWarning: To copy construct from a tensor, it is recommended to use sourceTensor.clone().detach() or sourceTensor.clone().detach().requires_grad_(True), rather than torch.tensor(sourceTensor).\n",
            "  train_labels = torch.tensor(train_labels, dtype=torch.int64).to(device)\n",
            "<ipython-input-12-90dbd9c70c19>:11: UserWarning: To copy construct from a tensor, it is recommended to use sourceTensor.clone().detach() or sourceTensor.clone().detach().requires_grad_(True), rather than torch.tensor(sourceTensor).\n",
            "  val_labels = torch.tensor(val_labels, dtype=torch.int64).to(device)\n",
            "Training Epoch 1: 100%|██████████| 21/21 [00:00<00:00, 29.42it/s]\n"
          ]
        },
        {
          "name": "stdout",
          "output_type": "stream",
          "text": [
            "Epoch [1/10], Loss: 0.6128\n",
            "Validation Accuracy: 52.33%\n"
          ]
        },
        {
          "name": "stderr",
          "output_type": "stream",
          "text": [
            "Training Epoch 2: 100%|██████████| 21/21 [00:00<00:00, 163.54it/s]\n"
          ]
        },
        {
          "name": "stdout",
          "output_type": "stream",
          "text": [
            "Epoch [2/10], Loss: 0.4866\n",
            "Validation Accuracy: 76.74%\n"
          ]
        },
        {
          "name": "stderr",
          "output_type": "stream",
          "text": [
            "Training Epoch 3: 100%|██████████| 21/21 [00:00<00:00, 200.41it/s]\n"
          ]
        },
        {
          "name": "stdout",
          "output_type": "stream",
          "text": [
            "Epoch [3/10], Loss: 0.4341\n",
            "Validation Accuracy: 59.30%\n"
          ]
        },
        {
          "name": "stderr",
          "output_type": "stream",
          "text": [
            "Training Epoch 4: 100%|██████████| 21/21 [00:00<00:00, 204.77it/s]\n"
          ]
        },
        {
          "name": "stdout",
          "output_type": "stream",
          "text": [
            "Epoch [4/10], Loss: 0.4128\n",
            "Validation Accuracy: 59.30%\n"
          ]
        },
        {
          "name": "stderr",
          "output_type": "stream",
          "text": [
            "Training Epoch 5: 100%|██████████| 21/21 [00:00<00:00, 202.45it/s]\n"
          ]
        },
        {
          "name": "stdout",
          "output_type": "stream",
          "text": [
            "Epoch [5/10], Loss: 0.3793\n",
            "Validation Accuracy: 65.12%\n"
          ]
        },
        {
          "name": "stderr",
          "output_type": "stream",
          "text": [
            "Training Epoch 6: 100%|██████████| 21/21 [00:00<00:00, 200.47it/s]\n"
          ]
        },
        {
          "name": "stdout",
          "output_type": "stream",
          "text": [
            "Epoch [6/10], Loss: 0.3951\n",
            "Validation Accuracy: 86.05%\n"
          ]
        },
        {
          "name": "stderr",
          "output_type": "stream",
          "text": [
            "Training Epoch 7: 100%|██████████| 21/21 [00:00<00:00, 206.55it/s]\n"
          ]
        },
        {
          "name": "stdout",
          "output_type": "stream",
          "text": [
            "Epoch [7/10], Loss: 0.3708\n",
            "Validation Accuracy: 80.23%\n"
          ]
        },
        {
          "name": "stderr",
          "output_type": "stream",
          "text": [
            "Training Epoch 8: 100%|██████████| 21/21 [00:00<00:00, 195.45it/s]\n"
          ]
        },
        {
          "name": "stdout",
          "output_type": "stream",
          "text": [
            "Epoch [8/10], Loss: 0.3615\n",
            "Validation Accuracy: 79.07%\n"
          ]
        },
        {
          "name": "stderr",
          "output_type": "stream",
          "text": [
            "Training Epoch 9: 100%|██████████| 21/21 [00:00<00:00, 181.61it/s]\n"
          ]
        },
        {
          "name": "stdout",
          "output_type": "stream",
          "text": [
            "Epoch [9/10], Loss: 0.3606\n",
            "Validation Accuracy: 81.40%\n"
          ]
        },
        {
          "name": "stderr",
          "output_type": "stream",
          "text": [
            "Training Epoch 10: 100%|██████████| 21/21 [00:00<00:00, 213.26it/s]\n"
          ]
        },
        {
          "name": "stdout",
          "output_type": "stream",
          "text": [
            "Epoch [10/10], Loss: 0.3509\n",
            "Validation Accuracy: 82.56%\n"
          ]
        }
      ],
      "source": [
        "# Example inputs\n",
        "'''train_keypoints = torch.rand(332, 3, 33)  # Shape: (num_samples, channels, num_keypoints)\n",
        "train_labels = torch.randint(0, 2, (332,))  # Shape: (num_samples,)\n",
        "val_keypoints = torch.rand(86, 3, 33)       # Shape: (num_samples, channels, num_keypoints)\n",
        "val_labels = torch.randint(0, 2, (86,))     # Shape: (num_samples,)'''\n",
        "\n",
        "model_path = '/content/drive/MyDrive/STGCN_Dataset/stgcn_model.pth'\n",
        "\n",
        "train_stgcn(train_keypoints, train_labels, validation_keypoints, val_labels, model_path, num_epochs=10, batch_size=16)\n"
      ]
    },
    {
      "cell_type": "code",
      "execution_count": null,
      "metadata": {
        "id": "rUJUi7STJeQ9"
      },
      "outputs": [],
      "source": [
        "model_path = '/content/drive/MyDrive/STGCN_Dataset/stgcn_model.pth'\n",
        "torch.save(model.state_dict(), model_path)"
      ]
    },
    {
      "cell_type": "markdown",
      "metadata": {
        "id": "K2tKXanfJzsC"
      },
      "source": [
        "#Prediction"
      ]
    },
    {
      "cell_type": "markdown",
      "metadata": {
        "id": "cbf3fUmqsgkQ"
      },
      "source": [
        "##Function"
      ]
    },
    {
      "cell_type": "code",
      "execution_count": null,
      "metadata": {
        "id": "46rZ9l84uDQm"
      },
      "outputs": [],
      "source": [
        "import torch\n",
        "import cv2\n",
        "import numpy as np\n",
        "\n",
        "def predict_fall_in_video(video_path, model, device, pose_extractor, frame_skip=50):\n",
        "    \"\"\"\n",
        "    Predict whether a fall occurs in a given video using a trained ST-GCN model.\n",
        "\n",
        "    Parameters:\n",
        "        video_path (str): Path to the input video.\n",
        "        model (torch.nn.Module): Trained ST-GCN model.\n",
        "        device (torch.device): Device to run the model on ('cuda' or 'cpu').\n",
        "        pose_extractor (function): Function to extract pose keypoints from video frames.\n",
        "        frame_skip (int): Number of frames to skip during processing to reduce RAM usage.\n",
        "\n",
        "    Returns:\n",
        "        dict: Dictionary with per-frame predictions and overall result.\n",
        "    \"\"\"\n",
        "    model.eval()  # Set model to evaluation mode\n",
        "\n",
        "    # Step 1: Extract frames from the video\n",
        "    cap = cv2.VideoCapture(video_path)\n",
        "    frames = []\n",
        "    frame_count = 0\n",
        "    while cap.isOpened():\n",
        "        ret, frame = cap.read()\n",
        "        if not ret:\n",
        "            break\n",
        "        if frame_count % frame_skip == 0:  # Process every `frame_skip` frame\n",
        "            frames.append(frame)\n",
        "        frame_count += 1\n",
        "    cap.release()\n",
        "\n",
        "    # Step 2: Extract pose keypoints from the selected frames\n",
        "    keypoints_sequence = []\n",
        "    for frame in frames:\n",
        "        keypoints = pose_extractor(frame)  # Extract keypoints for the frame\n",
        "        if keypoints is not None:\n",
        "            keypoints_sequence.append(keypoints)\n",
        "        else:\n",
        "            keypoints_sequence.append(np.zeros((33, 4)))  # Handle missing frames\n",
        "\n",
        "    # Step 3: Convert keypoints to tensor and reshape for ST-GCN\n",
        "    keypoints_sequence = np.array(keypoints_sequence)  # Shape: (T, J, C)\n",
        "    keypoints_sequence = np.expand_dims(keypoints_sequence, axis=0)  # Add batch dimension\n",
        "\n",
        "    # Optionally collapse the keypoints to a single channel, e.g., by averaging x, y, z, visibility\n",
        "    keypoints_sequence = keypoints_sequence.mean(axis=-1, keepdims=True)  # Average across the last axis (x, y, z, visibility)\n",
        "\n",
        "    # Convert to tensor and move to the appropriate device\n",
        "    keypoints_tensor = torch.tensor(keypoints_sequence, dtype=torch.float32).to(device)\n",
        "\n",
        "    # Ensure the tensor is of the correct shape: [batch_size, channels, height, width]\n",
        "    keypoints_tensor = keypoints_tensor.permute(0, 3, 1, 2)  # Reorder to [batch_size, channels, height, width]\n",
        "\n",
        "    # Step 4: Pass keypoints through the ST-GCN model\n",
        "    with torch.no_grad():\n",
        "        outputs = model(keypoints_tensor)  # Model inference\n",
        "        predictions = torch.argmax(outputs, dim=1).cpu().numpy()  # Get class predictions\n",
        "\n",
        "    # Step 5: Analyze predictions\n",
        "    has_fallen = 1 in predictions  # Check if any frame predicts 'fallen' (class 1)\n",
        "    frame_results = {f\"Frame {i * frame_skip + 1}\": \"Fallen\" if pred == 1 else \"Not Fallen\"\n",
        "                     for i, pred in enumerate(predictions)}\n",
        "\n",
        "    # Return results\n",
        "    return {\n",
        "        \"Frame Results\": frame_results,\n",
        "        \"Overall Result\": \"Fall Detected\" if has_fallen else \"No Fall Detected\"\n",
        "    }\n"
      ]
    },
    {
      "cell_type": "markdown",
      "metadata": {
        "id": "gSe6ODUOsowA"
      },
      "source": [
        "##Execution"
      ]
    },
    {
      "cell_type": "code",
      "execution_count": null,
      "metadata": {
        "colab": {
          "base_uri": "https://localhost:8080/",
          "height": 73
        },
        "id": "hFXKr4ZK4X4T",
        "outputId": "6fedbc0a-770a-48bf-b2fe-c43025b2c42f"
      },
      "outputs": [
        {
          "data": {
            "text/html": [
              "\n",
              "     <input type=\"file\" id=\"files-1f18f11c-b461-4d17-92f7-f6060b6d81dd\" name=\"files[]\" multiple disabled\n",
              "        style=\"border:none\" />\n",
              "     <output id=\"result-1f18f11c-b461-4d17-92f7-f6060b6d81dd\">\n",
              "      Upload widget is only available when the cell has been executed in the\n",
              "      current browser session. Please rerun this cell to enable.\n",
              "      </output>\n",
              "      <script>// Copyright 2017 Google LLC\n",
              "//\n",
              "// Licensed under the Apache License, Version 2.0 (the \"License\");\n",
              "// you may not use this file except in compliance with the License.\n",
              "// You may obtain a copy of the License at\n",
              "//\n",
              "//      http://www.apache.org/licenses/LICENSE-2.0\n",
              "//\n",
              "// Unless required by applicable law or agreed to in writing, software\n",
              "// distributed under the License is distributed on an \"AS IS\" BASIS,\n",
              "// WITHOUT WARRANTIES OR CONDITIONS OF ANY KIND, either express or implied.\n",
              "// See the License for the specific language governing permissions and\n",
              "// limitations under the License.\n",
              "\n",
              "/**\n",
              " * @fileoverview Helpers for google.colab Python module.\n",
              " */\n",
              "(function(scope) {\n",
              "function span(text, styleAttributes = {}) {\n",
              "  const element = document.createElement('span');\n",
              "  element.textContent = text;\n",
              "  for (const key of Object.keys(styleAttributes)) {\n",
              "    element.style[key] = styleAttributes[key];\n",
              "  }\n",
              "  return element;\n",
              "}\n",
              "\n",
              "// Max number of bytes which will be uploaded at a time.\n",
              "const MAX_PAYLOAD_SIZE = 100 * 1024;\n",
              "\n",
              "function _uploadFiles(inputId, outputId) {\n",
              "  const steps = uploadFilesStep(inputId, outputId);\n",
              "  const outputElement = document.getElementById(outputId);\n",
              "  // Cache steps on the outputElement to make it available for the next call\n",
              "  // to uploadFilesContinue from Python.\n",
              "  outputElement.steps = steps;\n",
              "\n",
              "  return _uploadFilesContinue(outputId);\n",
              "}\n",
              "\n",
              "// This is roughly an async generator (not supported in the browser yet),\n",
              "// where there are multiple asynchronous steps and the Python side is going\n",
              "// to poll for completion of each step.\n",
              "// This uses a Promise to block the python side on completion of each step,\n",
              "// then passes the result of the previous step as the input to the next step.\n",
              "function _uploadFilesContinue(outputId) {\n",
              "  const outputElement = document.getElementById(outputId);\n",
              "  const steps = outputElement.steps;\n",
              "\n",
              "  const next = steps.next(outputElement.lastPromiseValue);\n",
              "  return Promise.resolve(next.value.promise).then((value) => {\n",
              "    // Cache the last promise value to make it available to the next\n",
              "    // step of the generator.\n",
              "    outputElement.lastPromiseValue = value;\n",
              "    return next.value.response;\n",
              "  });\n",
              "}\n",
              "\n",
              "/**\n",
              " * Generator function which is called between each async step of the upload\n",
              " * process.\n",
              " * @param {string} inputId Element ID of the input file picker element.\n",
              " * @param {string} outputId Element ID of the output display.\n",
              " * @return {!Iterable<!Object>} Iterable of next steps.\n",
              " */\n",
              "function* uploadFilesStep(inputId, outputId) {\n",
              "  const inputElement = document.getElementById(inputId);\n",
              "  inputElement.disabled = false;\n",
              "\n",
              "  const outputElement = document.getElementById(outputId);\n",
              "  outputElement.innerHTML = '';\n",
              "\n",
              "  const pickedPromise = new Promise((resolve) => {\n",
              "    inputElement.addEventListener('change', (e) => {\n",
              "      resolve(e.target.files);\n",
              "    });\n",
              "  });\n",
              "\n",
              "  const cancel = document.createElement('button');\n",
              "  inputElement.parentElement.appendChild(cancel);\n",
              "  cancel.textContent = 'Cancel upload';\n",
              "  const cancelPromise = new Promise((resolve) => {\n",
              "    cancel.onclick = () => {\n",
              "      resolve(null);\n",
              "    };\n",
              "  });\n",
              "\n",
              "  // Wait for the user to pick the files.\n",
              "  const files = yield {\n",
              "    promise: Promise.race([pickedPromise, cancelPromise]),\n",
              "    response: {\n",
              "      action: 'starting',\n",
              "    }\n",
              "  };\n",
              "\n",
              "  cancel.remove();\n",
              "\n",
              "  // Disable the input element since further picks are not allowed.\n",
              "  inputElement.disabled = true;\n",
              "\n",
              "  if (!files) {\n",
              "    return {\n",
              "      response: {\n",
              "        action: 'complete',\n",
              "      }\n",
              "    };\n",
              "  }\n",
              "\n",
              "  for (const file of files) {\n",
              "    const li = document.createElement('li');\n",
              "    li.append(span(file.name, {fontWeight: 'bold'}));\n",
              "    li.append(span(\n",
              "        `(${file.type || 'n/a'}) - ${file.size} bytes, ` +\n",
              "        `last modified: ${\n",
              "            file.lastModifiedDate ? file.lastModifiedDate.toLocaleDateString() :\n",
              "                                    'n/a'} - `));\n",
              "    const percent = span('0% done');\n",
              "    li.appendChild(percent);\n",
              "\n",
              "    outputElement.appendChild(li);\n",
              "\n",
              "    const fileDataPromise = new Promise((resolve) => {\n",
              "      const reader = new FileReader();\n",
              "      reader.onload = (e) => {\n",
              "        resolve(e.target.result);\n",
              "      };\n",
              "      reader.readAsArrayBuffer(file);\n",
              "    });\n",
              "    // Wait for the data to be ready.\n",
              "    let fileData = yield {\n",
              "      promise: fileDataPromise,\n",
              "      response: {\n",
              "        action: 'continue',\n",
              "      }\n",
              "    };\n",
              "\n",
              "    // Use a chunked sending to avoid message size limits. See b/62115660.\n",
              "    let position = 0;\n",
              "    do {\n",
              "      const length = Math.min(fileData.byteLength - position, MAX_PAYLOAD_SIZE);\n",
              "      const chunk = new Uint8Array(fileData, position, length);\n",
              "      position += length;\n",
              "\n",
              "      const base64 = btoa(String.fromCharCode.apply(null, chunk));\n",
              "      yield {\n",
              "        response: {\n",
              "          action: 'append',\n",
              "          file: file.name,\n",
              "          data: base64,\n",
              "        },\n",
              "      };\n",
              "\n",
              "      let percentDone = fileData.byteLength === 0 ?\n",
              "          100 :\n",
              "          Math.round((position / fileData.byteLength) * 100);\n",
              "      percent.textContent = `${percentDone}% done`;\n",
              "\n",
              "    } while (position < fileData.byteLength);\n",
              "  }\n",
              "\n",
              "  // All done.\n",
              "  yield {\n",
              "    response: {\n",
              "      action: 'complete',\n",
              "    }\n",
              "  };\n",
              "}\n",
              "\n",
              "scope.google = scope.google || {};\n",
              "scope.google.colab = scope.google.colab || {};\n",
              "scope.google.colab._files = {\n",
              "  _uploadFiles,\n",
              "  _uploadFilesContinue,\n",
              "};\n",
              "})(self);\n",
              "</script> "
            ],
            "text/plain": [
              "<IPython.core.display.HTML object>"
            ]
          },
          "metadata": {},
          "output_type": "display_data"
        },
        {
          "name": "stdout",
          "output_type": "stream",
          "text": [
            "Saving person_walking.mp4 to person_walking.mp4\n"
          ]
        }
      ],
      "source": [
        "from google.colab import files\n",
        "\n",
        "# Upload video\n",
        "uploaded = files.upload()\n",
        "video_path = list(uploaded.keys())[0]"
      ]
    },
    {
      "cell_type": "code",
      "execution_count": null,
      "metadata": {
        "colab": {
          "base_uri": "https://localhost:8080/"
        },
        "id": "90IBecg_iF7-",
        "outputId": "c9d8a8a0-c59c-42f6-896e-7ea6390ef834"
      },
      "outputs": [
        {
          "name": "stdout",
          "output_type": "stream",
          "text": [
            "Using GPU: Tesla T4\n"
          ]
        }
      ],
      "source": [
        "import torch\n",
        "if torch.cuda.is_available():\n",
        "    device = torch.device(\"cuda\")\n",
        "    print(\"Using GPU:\", torch.cuda.get_device_name(0))\n",
        "else:\n",
        "    device = torch.device(\"cpu\")\n",
        "    print(\"Using CPU\")\n"
      ]
    },
    {
      "cell_type": "code",
      "execution_count": null,
      "metadata": {
        "colab": {
          "base_uri": "https://localhost:8080/"
        },
        "id": "C2hLEXvVPQ2q",
        "outputId": "40b9ccaa-8275-4a04-cd43-dbc9aee12165"
      },
      "outputs": [
        {
          "name": "stdout",
          "output_type": "stream",
          "text": [
            "Total frames: 199\n",
            "First frame keypoints (if available): [[0.3686886131763458, 0.019866913557052612, -0.2704041600227356], [0.3765782117843628, 0.001132369041442871, -0.2532722055912018], [0.3814921975135803, 0.001101166009902954, -0.25336506962776184], [0.386398583650589, 0.0012714564800262451, -0.2534179091453552], [0.3635946214199066, -5.647540092468262e-05, -0.24685418605804443], [0.35973626375198364, -0.000982135534286499, -0.2468380481004715], [0.3561495542526245, -0.001795053482055664, -0.24692454934120178], [0.39508256316185, 0.008215129375457764, -0.11848311126232147], [0.35692110657691956, 0.005233645439147949, -0.08810247480869293], [0.377853661775589, 0.034045781940221786, -0.21703632175922394], [0.3624286651611328, 0.032154083251953125, -0.20829716324806213], [0.44082823395729065, 0.11007609963417053, -0.045047711580991745], [0.32432693243026733, 0.12767410278320312, 0.02514456771314144], [0.46256619691848755, 0.2580544650554657, -0.012743744067847729], [0.3108488619327545, 0.2689981460571289, 0.09872337430715561], [0.4494265019893646, 0.37630170583724976, -0.16853441298007965], [0.2980857193470001, 0.4020870327949524, -0.0303350742906332], [0.44897836446762085, 0.4174494743347168, -0.21934838593006134], [0.2923118770122528, 0.4451368749141693, -0.07158957421779633], [0.4352758824825287, 0.41113823652267456, -0.26141777634620667], [0.29777252674102783, 0.4502367675304413, -0.12590435147285461], [0.4322224259376526, 0.4005734622478485, -0.18774063885211945], [0.30212271213531494, 0.4380636215209961, -0.055740367621183395], [0.4128381609916687, 0.40266624093055725, -0.019901666790246964], [0.3429158627986908, 0.3987671732902527, 0.020087342709302902], [0.3972861170768738, 0.6304139494895935, -0.08849058300256729], [0.33577820658683777, 0.6290516257286072, -0.050471507012844086], [0.3906082510948181, 0.8325799703598022, 0.13235993683338165], [0.3371073603630066, 0.837647557258606, 0.14519518613815308], [0.38703858852386475, 0.8422458171844482, 0.14348363876342773], [0.33949193358421326, 0.8537224531173706, 0.15369153022766113], [0.3869437575340271, 0.9205210208892822, -0.04904864355921745], [0.3281879723072052, 0.9166303873062134, -0.03785967081785202]]\n"
          ]
        }
      ],
      "source": [
        "import cv2\n",
        "import mediapipe as mp\n",
        "import numpy as np\n",
        "\n",
        "# Path to your uploaded video\n",
        "video_path = '/content/person_falling_new.mp4'  # Replace with your video path\n",
        "\n",
        "# Open video using OpenCV\n",
        "cap = cv2.VideoCapture(video_path)\n",
        "\n",
        "# List to store frames\n",
        "frames = []\n",
        "\n",
        "while cap.isOpened():\n",
        "    ret, frame = cap.read()\n",
        "    if not ret:\n",
        "        break\n",
        "    # Optionally preprocess (resize, etc.)\n",
        "    frame_resized = cv2.resize(frame, (640, 480))  # Resize to 640x480 for faster processing\n",
        "    frames.append(frame_resized)\n",
        "\n",
        "cap.release()\n",
        "\n",
        "# Initialize MediaPipe pose model\n",
        "mp_pose = mp.solutions.pose\n",
        "pose = mp_pose.Pose()\n",
        "\n",
        "# List to store keypoints for each frame\n",
        "keypoints_list = []\n",
        "\n",
        "for frame in frames:\n",
        "    # Convert frame to RGB (MediaPipe works with RGB frames)\n",
        "    frame_rgb = cv2.cvtColor(frame, cv2.COLOR_BGR2RGB)\n",
        "\n",
        "    # Process the frame to extract pose landmarks\n",
        "    results = pose.process(frame_rgb)\n",
        "\n",
        "    # Extract keypoints if detected\n",
        "    if results.pose_landmarks:\n",
        "        keypoints = []\n",
        "        for landmark in results.pose_landmarks.landmark:\n",
        "            keypoints.append([landmark.x, landmark.y, landmark.z])\n",
        "        keypoints_list.append(keypoints)\n",
        "    else:\n",
        "        keypoints_list.append(None)  # If no pose is detected, append None\n",
        "\n",
        "pose.close()\n",
        "\n",
        "# Print the number of frames and some example keypoints for debugging\n",
        "print(f\"Total frames: {len(frames)}\")\n",
        "print(f\"First frame keypoints (if available): {keypoints_list[0]}\")\n"
      ]
    },
    {
      "cell_type": "code",
      "execution_count": null,
      "metadata": {
        "colab": {
          "base_uri": "https://localhost:8080/"
        },
        "id": "r29WsGgf628_",
        "outputId": "9fb4159e-ce83-444d-f06d-fcf85774b923"
      },
      "outputs": [
        {
          "name": "stdout",
          "output_type": "stream",
          "text": [
            "Total frames: 178\n",
            "First frame keypoints (if available): [[0.48274102807044983, 0.524723470211029, 0.06934764981269836], [0.48136845231056213, 0.5177784562110901, 0.05716276913881302], [0.48001083731651306, 0.517755389213562, 0.05714453384280205], [0.47871294617652893, 0.5178438425064087, 0.057123295962810516], [0.4847719073295593, 0.5178069472312927, 0.054578136652708054], [0.48585644364356995, 0.5179035663604736, 0.05459362268447876], [0.4870249629020691, 0.5181229114532471, 0.05455111712217331], [0.47675877809524536, 0.5212246179580688, 0.01810361072421074], [0.48929929733276367, 0.5222467184066772, 0.005639493931084871], [0.4805240035057068, 0.5304532647132874, 0.058937229216098785], [0.484630286693573, 0.531627893447876, 0.05520838499069214], [0.4577752649784088, 0.5603043437004089, -0.0005099961417727172], [0.4972974359989166, 0.5665785074234009, -0.013322453014552593], [0.45488423109054565, 0.6230266094207764, -0.008424973115324974], [0.5024628043174744, 0.6276262402534485, -0.030028587207198143], [0.4576384127140045, 0.6678259372711182, -0.011452739126980305], [0.5027928948402405, 0.6723214983940125, -0.044642288237810135], [0.45842140913009644, 0.6814358830451965, -0.015885597094893456], [0.502453625202179, 0.686213493347168, -0.050857119262218475], [0.4636403024196625, 0.6801166534423828, -0.020046215504407883], [0.4997529983520508, 0.682561993598938, -0.05594164878129959], [0.464484840631485, 0.6751745343208313, -0.013372073881328106], [0.4986080229282379, 0.6772783994674683, -0.047479432076215744], [0.4666527211666107, 0.6754019260406494, 0.008676846511662006], [0.48813194036483765, 0.6788484454154968, -0.00870196707546711], [0.46963509917259216, 0.7484113574028015, 0.06568063795566559], [0.4828987121582031, 0.7591772079467773, 0.012363152578473091], [0.467691570520401, 0.8192822337150574, 0.13764142990112305], [0.47816362977027893, 0.8405625224113464, 0.04527779668569565], [0.4671541154384613, 0.8321870565414429, 0.14369350671768188], [0.47694215178489685, 0.8505257368087769, 0.04729278013110161], [0.47004371881484985, 0.8197529911994934, 0.11711569130420685], [0.4793100357055664, 0.8509629964828491, 0.008653700351715088]]\n"
          ]
        }
      ],
      "source": [
        "import cv2\n",
        "import mediapipe as mp\n",
        "import numpy as np\n",
        "\n",
        "# Path to your uploaded video\n",
        "video_path = '/content/person_walking.mp4'  # Replace with your video path\n",
        "\n",
        "# Open video using OpenCV\n",
        "cap = cv2.VideoCapture(video_path)\n",
        "\n",
        "# List to store frames\n",
        "frames = []\n",
        "\n",
        "while cap.isOpened():\n",
        "    ret, frame = cap.read()\n",
        "    if not ret:\n",
        "        break\n",
        "    # Optionally preprocess (resize, etc.)\n",
        "    frame_resized = cv2.resize(frame, (640, 480))  # Resize to 640x480 for faster processing\n",
        "    frames.append(frame_resized)\n",
        "\n",
        "cap.release()\n",
        "\n",
        "# Initialize MediaPipe pose model\n",
        "mp_pose = mp.solutions.pose\n",
        "pose = mp_pose.Pose()\n",
        "\n",
        "# List to store keypoints for each frame\n",
        "keypoints_list = []\n",
        "\n",
        "for frame in frames:\n",
        "    # Convert frame to RGB (MediaPipe works with RGB frames)\n",
        "    frame_rgb = cv2.cvtColor(frame, cv2.COLOR_BGR2RGB)\n",
        "\n",
        "    # Process the frame to extract pose landmarks\n",
        "    results = pose.process(frame_rgb)\n",
        "\n",
        "    # Extract keypoints if detected\n",
        "    if results.pose_landmarks:\n",
        "        keypoints = []\n",
        "        for landmark in results.pose_landmarks.landmark:\n",
        "            keypoints.append([landmark.x, landmark.y, landmark.z])\n",
        "        keypoints_list.append(keypoints)\n",
        "    else:\n",
        "        keypoints_list.append(None)  # If no pose is detected, append None\n",
        "\n",
        "pose.close()\n",
        "\n",
        "# Print the number of frames and some example keypoints for debugging\n",
        "print(f\"Total frames: {len(frames)}\")\n",
        "print(f\"First frame keypoints (if available): {keypoints_list[3]}\")\n"
      ]
    },
    {
      "cell_type": "code",
      "execution_count": null,
      "metadata": {
        "colab": {
          "base_uri": "https://localhost:8080/"
        },
        "id": "uPbDeIb9SAeW",
        "outputId": "1d93f056-b094-40e7-ca16-56df4bc90e64"
      },
      "outputs": [
        {
          "data": {
            "text/plain": [
              "STGCN(\n",
              "  (stgcn1): STGCNLayer(\n",
              "    (spatial_conv): Conv2d(1, 64, kernel_size=(1, 178), stride=(1, 1), padding=(0, 89))\n",
              "    (temporal_conv): Conv2d(64, 64, kernel_size=(3, 1), stride=(1, 1), padding=(1, 1))\n",
              "    (bn): BatchNorm2d(64, eps=1e-05, momentum=0.1, affine=True, track_running_stats=True)\n",
              "  )\n",
              "  (stgcn2): STGCNLayer(\n",
              "    (spatial_conv): Conv2d(64, 64, kernel_size=(1, 178), stride=(1, 1), padding=(0, 89))\n",
              "    (temporal_conv): Conv2d(64, 64, kernel_size=(3, 1), stride=(1, 1), padding=(1, 1))\n",
              "    (bn): BatchNorm2d(64, eps=1e-05, momentum=0.1, affine=True, track_running_stats=True)\n",
              "  )\n",
              "  (fc): Linear(in_features=64, out_features=2, bias=True)\n",
              ")"
            ]
          },
          "execution_count": 56,
          "metadata": {},
          "output_type": "execute_result"
        }
      ],
      "source": [
        "# Initialize your model\n",
        "model = STGCN(num_keypoints=len(keypoints_list), num_classes=2)  # Assuming 33 keypoints and 2 classes  # Use your actual model class name here\n",
        "#device = torch.device('cuda' if torch.cuda.is_available() else 'cpu')\n",
        "model.to(device)\n",
        "\n",
        "# Load the saved state_dict\n",
        "model_path = '/content/drive/MyDrive/STGCN_Dataset/stgcn_model.pth'\n",
        "model.load_state_dict(torch.load(model_path, map_location=device), strict=False)\n",
        "\n",
        "\n",
        "# Set the model to evaluation mode\n",
        "model.eval()\n"
      ]
    },
    {
      "cell_type": "code",
      "execution_count": null,
      "metadata": {
        "colab": {
          "base_uri": "https://localhost:8080/"
        },
        "id": "yj6SEYAllV_g",
        "outputId": "e1f75b06-0d6d-4873-8552-3cb392b7a4de"
      },
      "outputs": [
        {
          "name": "stdout",
          "output_type": "stream",
          "text": [
            "Per-frame results: {'Frame 1': 'Fallen'}\n",
            "Overall result: Fall Detected\n"
          ]
        }
      ],
      "source": [
        "import torch\n",
        "import cv2\n",
        "import numpy as np\n",
        "import mediapipe as mp\n",
        "\n",
        "# Define pose extraction function using MediaPipe\n",
        "def pose_extractor(frame):\n",
        "    mp_pose = mp.solutions.pose\n",
        "    pose = mp_pose.Pose()\n",
        "\n",
        "    # Convert frame to RGB for MediaPipe\n",
        "    frame_rgb = cv2.cvtColor(frame, cv2.COLOR_BGR2RGB)\n",
        "    results = pose.process(frame_rgb)\n",
        "\n",
        "    # Extract keypoints\n",
        "    if results.pose_landmarks:\n",
        "        keypoints = np.array([[landmark.x, landmark.y, landmark.z, landmark.visibility]\n",
        "                              for landmark in results.pose_landmarks.landmark])\n",
        "        return keypoints\n",
        "    else:\n",
        "        return None  # No keypoints detected\n",
        "\n",
        "# Call the prediction function with video path and model\n",
        "video_path = '/content/person_falling_new.mp4'  # Replace with your video path\n",
        "results = predict_fall_in_video(video_path, model, device, pose_extractor)\n",
        "\n",
        "# Print the frame results and overall result\n",
        "print(\"Per-frame results:\", results['Frame Results'])\n",
        "print(\"Overall result:\", results['Overall Result'])\n"
      ]
    },
    {
      "cell_type": "code",
      "execution_count": null,
      "metadata": {
        "colab": {
          "base_uri": "https://localhost:8080/"
        },
        "id": "tbYDrUac419t",
        "outputId": "52444148-0001-4387-8903-92289ff17373"
      },
      "outputs": [
        {
          "name": "stdout",
          "output_type": "stream",
          "text": [
            "Per-frame results: {'Frame 1': 'Fallen'}\n",
            "Overall result: Fall Detected\n"
          ]
        }
      ],
      "source": [
        "import torch\n",
        "import cv2\n",
        "import numpy as np\n",
        "import mediapipe as mp\n",
        "\n",
        "# Define pose extraction function using MediaPipe\n",
        "def pose_extractor2(frame):\n",
        "    mp_pose = mp.solutions.pose\n",
        "    pose = mp_pose.Pose()\n",
        "\n",
        "    # Convert frame to RGB for MediaPipe\n",
        "    frame_rgb = cv2.cvtColor(frame, cv2.COLOR_BGR2RGB)\n",
        "    results = pose.process(frame_rgb)\n",
        "\n",
        "    # Extract keypoints\n",
        "    if results.pose_landmarks:\n",
        "        keypoints = np.array([[landmark.x, landmark.y, landmark.z, landmark.visibility]\n",
        "                              for landmark in results.pose_landmarks.landmark])\n",
        "        return keypoints\n",
        "    else:\n",
        "        return None  # No keypoints detected\n",
        "\n",
        "# Call the prediction function with video path and model\n",
        "video_path2 = '/content/person_walking.mp4'  # Replace with your video path\n",
        "results = predict_fall_in_video(video_path2, model, device, pose_extractor2)\n",
        "\n",
        "# Print the frame results and overall result\n",
        "print(\"Per-frame results:\", results['Frame Results'])\n",
        "print(\"Overall result:\", results['Overall Result'])"
      ]
    },
    {
      "cell_type": "markdown",
      "metadata": {
        "id": "aDrFX3fRiigL"
      },
      "source": [
        "#Twilio Integration with G-Drive"
      ]
    },
    {
      "cell_type": "code",
      "execution_count": null,
      "metadata": {
        "colab": {
          "base_uri": "https://localhost:8080/"
        },
        "id": "zmi1W3sVP3AS",
        "outputId": "7c366a6b-c689-4856-819f-20a9933c6cdc"
      },
      "outputs": [
        {
          "name": "stdout",
          "output_type": "stream",
          "text": [
            "Mounted at /content/drive\n"
          ]
        }
      ],
      "source": [
        "from google.colab import drive\n",
        "drive.mount('/content/drive')"
      ]
    },
    {
      "cell_type": "code",
      "execution_count": null,
      "metadata": {
        "id": "1KxUBMraQJ_N"
      },
      "outputs": [],
      "source": [
        "import cv2\n",
        "import os\n",
        "\n",
        "def save_to_gdrive_and_get_link(frame, file_name, gdrive_folder='MyDrive/Fall_Detection_Alerts'):\n",
        "    \"\"\"\n",
        "    Saves the frame to Google Drive and retrieves a shareable link.\n",
        "\n",
        "    Parameters:\n",
        "        frame (numpy.ndarray): Image frame to save.\n",
        "        file_name (str): Name for the saved file.\n",
        "        gdrive_folder (str): Folder in Google Drive where the file will be saved.\n",
        "\n",
        "    Returns:\n",
        "        str: Google Drive shareable link for the saved file.\n",
        "    \"\"\"\n",
        "    # Ensure Google Drive folder exists\n",
        "    folder_path = f\"/content/drive/{gdrive_folder}\"\n",
        "    os.makedirs(folder_path, exist_ok=True)\n",
        "\n",
        "    # Save frame to Google Drive\n",
        "    file_path = os.path.join(folder_path, file_name)\n",
        "    cv2.imwrite(file_path, frame)\n",
        "    print(f\"Frame saved to: {file_path}\")\n",
        "\n",
        "    # Return the relative path in Google Drive for easier access\n",
        "    relative_file_path = os.path.join(gdrive_folder, file_name)\n",
        "    print(f\"Manual location: {relative_file_path}\")\n",
        "\n",
        "    return relative_file_path  # Return relative path within MyDrive\n"
      ]
    },
    {
      "cell_type": "code",
      "execution_count": null,
      "metadata": {
        "id": "r5lLOjKvQZuS"
      },
      "outputs": [],
      "source": [
        "def send_fall_notification_via_gdrive_simple(prediction_results, video_path, account_sid, auth_token, from_number, to_number):\n",
        "    from twilio.rest import Client\n",
        "\n",
        "    # Extract the overall result\n",
        "    overall_result = prediction_results[\"Overall Result\"]\n",
        "\n",
        "    # Initialize Twilio client\n",
        "    client = Client(account_sid, auth_token)\n",
        "\n",
        "    if overall_result == \"Fall Detected\":\n",
        "        # Extract a key frame from the video\n",
        "        cap = cv2.VideoCapture(video_path)\n",
        "        fallen_frame_index = None\n",
        "        for i, (frame_key, frame_result) in enumerate(prediction_results[\"Frame Results\"].items()):\n",
        "            if frame_result == \"Fallen\":\n",
        "                fallen_frame_index = i\n",
        "                break\n",
        "\n",
        "        # Extract and save the fallen frame\n",
        "        if fallen_frame_index is not None:\n",
        "            cap.set(cv2.CAP_PROP_POS_FRAMES, fallen_frame_index)\n",
        "            ret, frame = cap.read()\n",
        "            if ret:\n",
        "                # Save to Google Drive\n",
        "                fallen_frame_path = save_to_gdrive_and_get_link(frame, \"fallen_frame.jpg\")\n",
        "                # Send MMS with a manual location\n",
        "                message = client.messages.create(\n",
        "                    body=f\"Fall detected! Immediate assistance may be needed. Check Google Drive for the alert frame: {fallen_frame_path}\",\n",
        "                    from_=from_number,\n",
        "                    to=to_number\n",
        "                )\n",
        "                print(f\"Fall alert sent via SMS: SID {message.sid}\")\n",
        "            else:\n",
        "                print(\"Failed to extract fallen frame.\")\n",
        "        else:\n",
        "            print(\"No specific fallen frame detected in video.\")\n",
        "        cap.release()\n",
        "    else:\n",
        "        # Send a simple SMS indicating no fall was detected\n",
        "        message = client.messages.create(\n",
        "            body=\"Patient is okay. No fall detected.\",\n",
        "            from_=from_number,\n",
        "            to=to_number\n",
        "        )\n",
        "        print(f\"No fall detected notification sent: SID {message.sid}\")\n"
      ]
    },
    {
      "cell_type": "code",
      "execution_count": null,
      "metadata": {
        "id": "u52MQ6aVT5Xz"
      },
      "outputs": [],
      "source": [
        "# Dummy prediction results for testing\n",
        "fall_detected_results = {\n",
        "    \"Frame Results\": {\n",
        "        \"Frame 1\": \"Not Fallen\",\n",
        "        \"Frame 2\": \"Fallen\",\n",
        "        \"Frame 3\": \"Fallen\",\n",
        "    },\n",
        "    \"Overall Result\": \"Fall Detected\"\n",
        "}\n",
        "\n",
        "no_fall_detected_results = {\n",
        "    \"Frame Results\": {\n",
        "        \"Frame 1\": \"Not Fallen\",\n",
        "        \"Frame 2\": \"Not Fallen\",\n",
        "        \"Frame 3\": \"Not Fallen\",\n",
        "    },\n",
        "    \"Overall Result\": \"No Fall Detected\"\n",
        "}\n",
        "\n",
        "# Dummy video path\n",
        "video_path = \"person_falling_new.mp4\"  # Replace this with the path to your test video file"
      ]
    },
    {
      "cell_type": "markdown",
      "metadata": {
        "id": "wMr0UKRk7JBw"
      },
      "source": [
        "##Twilio Credentials"
      ]
    },
    {
      "cell_type": "code",
      "execution_count": null,
      "metadata": {
        "id": "EVC_ukS07LpS"
      },
      "outputs": [],
      "source": [
        "# Twilio account details (replace with your actual credentials)\n",
        "account_sid = \"AC4711d8b017004bc588e6141e749cdf60\"\n",
        "auth_token = \"ec36ccc0fad09bd6e411d2c7f8337006\"\n",
        "from_number = \"whatsapp:+14155238886\"\n",
        "to_number = \"whatsapp:+918593811202\""
      ]
    },
    {
      "cell_type": "code",
      "execution_count": null,
      "metadata": {
        "colab": {
          "base_uri": "https://localhost:8080/"
        },
        "id": "iDosNcG1T8Uc",
        "outputId": "0461a8d7-70da-42e8-d017-3e7e673f24ec"
      },
      "outputs": [
        {
          "name": "stdout",
          "output_type": "stream",
          "text": [
            "Testing Fall Detected Case:\n",
            "Frame saved to: /content/drive/MyDrive/Fall_Detection_Alerts/fallen_frame.jpg\n",
            "Manual location: MyDrive/Fall_Detection_Alerts/fallen_frame.jpg\n",
            "Fall alert sent via SMS: SID SMf053af337749a6963b5161d753deda26\n"
          ]
        }
      ],
      "source": [
        "# Fall Detected Case\n",
        "print(\"Testing Fall Detected Case:\")\n",
        "send_fall_notification_via_gdrive_simple(\n",
        "    fall_detected_results,\n",
        "    video_path,\n",
        "    account_sid,\n",
        "    auth_token,\n",
        "    from_number,\n",
        "    to_number\n",
        ")"
      ]
    },
    {
      "cell_type": "code",
      "execution_count": null,
      "metadata": {
        "colab": {
          "base_uri": "https://localhost:8080/"
        },
        "id": "vqkWc22qT-h6",
        "outputId": "5a72169e-6a9e-4083-99b1-1fd584d5c0e2"
      },
      "outputs": [
        {
          "name": "stdout",
          "output_type": "stream",
          "text": [
            "\n",
            "Testing No Fall Detected Case:\n",
            "No fall detected notification sent: SID SM86a22a9d076522ae109d380a82aae1c5\n"
          ]
        }
      ],
      "source": [
        "# No Fall Detected Case\n",
        "print(\"\\nTesting No Fall Detected Case:\")\n",
        "send_fall_notification_via_gdrive_simple(\n",
        "    no_fall_detected_results,\n",
        "    video_path,\n",
        "    account_sid,\n",
        "    auth_token,\n",
        "    from_number,\n",
        "    to_number\n",
        ")"
      ]
    }
  ],
  "metadata": {
    "accelerator": "GPU",
    "colab": {
      "gpuType": "T4",
      "provenance": []
    },
    "kernelspec": {
      "display_name": "Python 3",
      "name": "python3"
    },
    "language_info": {
      "name": "python"
    }
  },
  "nbformat": 4,
  "nbformat_minor": 0
}